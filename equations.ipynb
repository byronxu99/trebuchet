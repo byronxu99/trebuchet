{
 "cells": [
  {
   "cell_type": "markdown",
   "metadata": {},
   "source": [
    "# Derive equations of motion"
   ]
  },
  {
   "cell_type": "code",
   "execution_count": 1,
   "metadata": {},
   "outputs": [],
   "source": [
    "import sympy"
   ]
  },
  {
   "cell_type": "code",
   "execution_count": 24,
   "metadata": {},
   "outputs": [],
   "source": [
    "t = sympy.symbols(\"t\")\n",
    "g = sympy.symbols(\"g\")\n",
    "\n",
    "# Lengths (rod 1, rod 2, rod 1 balance extension)\n",
    "l_1, l_2, l_b = sympy.symbols(\"l_1 l_2 l_b\")\n",
    "\n",
    "# Linear density of rods\n",
    "rho_1, rho_2 = sympy.symbols(\"rho_1 rho_2\")\n",
    "\n",
    "# Point masses (joint, projectile, balance, drive)\n",
    "m_j, m_p, m_b, m_d = sympy.symbols(\"m_j m_p m_b m_d\")\n",
    "\n",
    "# Radius of driving axle\n",
    "r_a = sympy.symbols(\"r_a\")\n",
    "\n",
    "# Radius of rods and masses (for air resistance)\n",
    "r_1, r_2, r_b, r_j, r_p, r_d = sympy.symbols(\"r_1 r_2 r_b r_j r_p r_d\")\n",
    "\n",
    "# Air resistance coefficients\n",
    "rho_air, Cd_cyl, Cd_sph, Cd_disk = sympy.symbols(\"rho_air Cd_cyl Cd_sph Cd_disk\")\n",
    "\n",
    "# Extra rotational inertial of first rod\n",
    "I_extra = sympy.symbols(\"I_extra\")\n",
    "\n",
    "# Angles\n",
    "theta_1_f, theta_2_f = sympy.symbols(\"theta_1 theta_2\", cls=sympy.Function)\n",
    "theta_1 = theta_1_f(t)\n",
    "theta_2 = theta_2_f(t)\n",
    "\n",
    "# Rotational velocities\n",
    "omega_1 = sympy.diff(theta_1, t)\n",
    "omega_2 = sympy.diff(theta_2, t)\n",
    "\n",
    "# Rotational accelerations\n",
    "alpha_1 = sympy.diff(omega_1, t)\n",
    "alpha_2 = sympy.diff(omega_2, t)"
   ]
  },
  {
   "cell_type": "code",
   "execution_count": 14,
   "metadata": {},
   "outputs": [],
   "source": [
    "# Position and velocity of driving mass\n",
    "# Mass moves vertically, positive theta = up\n",
    "y_d = r_a * theta_1\n",
    "v_d = sympy.diff(y_d, t)\n",
    "\n",
    "# Positions of rod 1 end\n",
    "x_1, y_1 = l_1 * sympy.cos(theta_1), l_1 * sympy.sin(theta_1)\n",
    "# Positions of rod 2 end\n",
    "x_2, y_2 = x_1 + l_2 * sympy.cos(theta_2), y_1 + l_2 * sympy.sin(theta_2)\n",
    "# Position of balance mass (opposite direction of rod 1)\n",
    "x_b, y_b = -l_b * sympy.cos(theta_1), -l_b * sympy.sin(theta_1)\n",
    "\n",
    "# Position of center of mass\n",
    "x_1_cm, y_1_cm = l_1 / 2 * sympy.cos(theta_1), l_1 / 2 * sympy.sin(theta_1)\n",
    "x_2_cm, y_2_cm = x_1 + l_2 / 2 * sympy.cos(theta_2), y_1 + l_2 / 2 * sympy.sin(theta_2)\n",
    "x_b_cm, y_b_cm = -l_b / 2 * sympy.cos(theta_1), -l_b / 2 * sympy.sin(theta_1)\n",
    "\n",
    "# Velocities of rod ends\n",
    "v_x_1, v_y_1 = sympy.diff(x_1, t), sympy.diff(y_1, t)\n",
    "v_x_2, v_y_2 = sympy.diff(x_2, t), sympy.diff(y_2, t)\n",
    "v_x_b, v_y_b = sympy.diff(x_b, t), sympy.diff(y_b, t)\n",
    "\n",
    "# Velocities of rod center of mass\n",
    "v_x_1_cm, v_y_1_cm = sympy.diff(x_1_cm, t), sympy.diff(y_1_cm, t)\n",
    "v_x_2_cm, v_y_2_cm = sympy.diff(x_2_cm, t), sympy.diff(y_2_cm, t)\n",
    "v_x_b_cm, v_y_b_cm = sympy.diff(x_b_cm, t), sympy.diff(y_b_cm, t)\n",
    "\n",
    "# Mass of rods\n",
    "m_rod_1 = rho_1 * l_1\n",
    "m_rod_b = rho_1 * l_b\n",
    "m_rod_2 = rho_2 * l_2\n",
    "\n",
    "# Rotational inertia of rods around the center of mass\n",
    "I_rod_1 = m_rod_1 * l_1**2 / 12\n",
    "I_rod_2 = m_rod_2 * l_2**2 / 12\n",
    "I_rod_b = m_rod_b * l_b**2 / 12\n",
    "\n",
    "# Kinetic energy of rods\n",
    "T_rod_1_trans = m_rod_1 * (v_x_1_cm**2 + v_y_1_cm**2) / 2\n",
    "T_rod_1_rot = I_rod_1 * omega_1**2 / 2\n",
    "T_rod_1_extra = I_extra * omega_1**2 / 2\n",
    "T_rod_1 = T_rod_1_trans + T_rod_1_rot + T_rod_1_extra\n",
    "T_rod_2_trans = m_rod_2 * (v_x_2_cm**2 + v_y_2_cm**2) / 2\n",
    "T_rod_2_rot = I_rod_2 * omega_2**2 / 2\n",
    "T_rod_2 = T_rod_2_trans + T_rod_2_rot\n",
    "T_rod_b_trans = m_rod_b * (v_x_b_cm**2 + v_y_b_cm**2) / 2\n",
    "T_rod_b_rot = I_rod_b * omega_1**2 / 2\n",
    "T_rod_b = T_rod_b_trans + T_rod_b_rot\n",
    "\n",
    "# Kinetic energy of point masses at the ends\n",
    "T_j = m_j * (v_x_1**2 + v_y_1**2) / 2\n",
    "T_p = m_p * (v_x_2**2 + v_y_2**2) / 2\n",
    "T_b = m_b * (v_x_b**2 + v_y_b**2) / 2\n",
    "\n",
    "# Kinetic energy of the driving mass\n",
    "T_d = m_d * (v_d**2) / 2\n",
    "\n",
    "# Total kinetic energy\n",
    "T = T_rod_1 + T_rod_2 + T_rod_b + T_j + T_p + T_b + T_d\n",
    "\n",
    "# Potential energy\n",
    "V_rod_1 = m_rod_1 * g * y_1_cm\n",
    "V_rod_2 = m_rod_2 * g * y_2_cm\n",
    "V_rod_b = m_rod_b * g * y_b_cm\n",
    "V_j = m_j * g * y_1\n",
    "V_p = m_p * g * y_2\n",
    "V_b = m_b * g * y_b\n",
    "V_d = m_d * g * y_d\n",
    "\n",
    "# Total potential energy\n",
    "V = V_rod_1 + V_rod_2 + V_rod_b + V_j + V_p + V_b + V_d"
   ]
  },
  {
   "cell_type": "code",
   "execution_count": 18,
   "metadata": {},
   "outputs": [
    {
     "name": "stdout",
     "output_type": "stream",
     "text": [
      "Lagrangian: I_extra*Derivative(theta_1(t), t)**2/2 - g*l_1**2*rho_1*sin(theta_1(t))/2 - g*l_1*m_j*sin(theta_1(t)) - g*l_2*rho_2*(2*l_1*sin(theta_1(t)) + l_2*sin(theta_2(t)))/2 + g*l_b**2*rho_1*sin(theta_1(t))/2 + g*l_b*m_b*sin(theta_1(t)) - g*m_d*r_a*theta_1(t) - g*m_p*(l_1*sin(theta_1(t)) + l_2*sin(theta_2(t))) + l_1**3*rho_1*Derivative(theta_1(t), t)**2/6 + l_1**2*m_j*Derivative(theta_1(t), t)**2/2 + l_2**3*rho_2*Derivative(theta_2(t), t)**2/24 + l_2*rho_2*(4*l_1**2*Derivative(theta_1(t), t)**2 + 4*l_1*l_2*cos(theta_1(t) - theta_2(t))*Derivative(theta_1(t), t)*Derivative(theta_2(t), t) + l_2**2*Derivative(theta_2(t), t)**2)/8 + l_b**3*rho_1*Derivative(theta_1(t), t)**2/6 + l_b**2*m_b*Derivative(theta_1(t), t)**2/2 + m_d*r_a**2*Derivative(theta_1(t), t)**2/2 + m_p*(l_1**2*Derivative(theta_1(t), t)**2 + 2*l_1*l_2*cos(theta_1(t) - theta_2(t))*Derivative(theta_1(t), t)*Derivative(theta_2(t), t) + l_2**2*Derivative(theta_2(t), t)**2)/2\n",
      "Lagrange equation 1: I_extra*Derivative(theta_1(t), (t, 2)) + g*l_1**2*rho_1*cos(theta_1(t))/2 + g*l_1*l_2*rho_2*cos(theta_1(t)) + g*l_1*m_j*cos(theta_1(t)) + g*l_1*m_p*cos(theta_1(t)) - g*l_b**2*rho_1*cos(theta_1(t))/2 - g*l_b*m_b*cos(theta_1(t)) + g*m_d*r_a + l_1**3*rho_1*Derivative(theta_1(t), (t, 2))/3 + l_1**2*l_2*rho_2*Derivative(theta_1(t), (t, 2)) + l_1**2*m_j*Derivative(theta_1(t), (t, 2)) + l_1**2*m_p*Derivative(theta_1(t), (t, 2)) + l_1*l_2**2*rho_2*sin(theta_1(t) - theta_2(t))*Derivative(theta_2(t), t)**2/2 + l_1*l_2**2*rho_2*cos(theta_1(t) - theta_2(t))*Derivative(theta_2(t), (t, 2))/2 + l_1*l_2*m_p*sin(theta_1(t) - theta_2(t))*Derivative(theta_2(t), t)**2 + l_1*l_2*m_p*cos(theta_1(t) - theta_2(t))*Derivative(theta_2(t), (t, 2)) + l_b**3*rho_1*Derivative(theta_1(t), (t, 2))/3 + l_b**2*m_b*Derivative(theta_1(t), (t, 2)) + m_d*r_a**2*Derivative(theta_1(t), (t, 2))\n",
      "Lagrange equation 2: g*l_2**2*rho_2*cos(theta_2(t))/2 + g*l_2*m_p*cos(theta_2(t)) - l_1*l_2**2*rho_2*sin(theta_1(t) - theta_2(t))*Derivative(theta_1(t), t)**2/2 + l_1*l_2**2*rho_2*cos(theta_1(t) - theta_2(t))*Derivative(theta_1(t), (t, 2))/2 - l_1*l_2*m_p*sin(theta_1(t) - theta_2(t))*Derivative(theta_1(t), t)**2 + l_1*l_2*m_p*cos(theta_1(t) - theta_2(t))*Derivative(theta_1(t), (t, 2)) + l_2**3*rho_2*Derivative(theta_2(t), (t, 2))/3 + l_2**2*m_p*Derivative(theta_2(t), (t, 2))\n"
     ]
    }
   ],
   "source": [
    "# Lagrangian\n",
    "L = sympy.simplify(T - V)\n",
    "print(f\"Lagrangian: {L}\")\n",
    "\n",
    "# Euler-Lagrange equations\n",
    "dL_dtheta_1 = sympy.diff(L, theta_1)\n",
    "dL_domega_1 = sympy.diff(L, omega_1)\n",
    "dL_dtheta_2 = sympy.diff(L, theta_2)\n",
    "dL_domega_2 = sympy.diff(L, omega_2)\n",
    "eqn_1 = sympy.expand(sympy.diff(dL_domega_1, t) - dL_dtheta_1)\n",
    "eqn_2 = sympy.expand(sympy.diff(dL_domega_2, t) - dL_dtheta_2)\n",
    "\n",
    "print(f\"Lagrange equation 1: {eqn_1}\")\n",
    "print(f\"Lagrange equation 2: {eqn_2}\")"
   ]
  },
  {
   "cell_type": "code",
   "execution_count": 30,
   "metadata": {},
   "outputs": [],
   "source": [
    "# Create system of equations for [alpha_1, alpha_2]\n",
    "# alpha_1 * c11 + alpha_2 * c12 = eqn_1_rhs\n",
    "# alpha_1 * c21 + alpha_2 * c22 = eqn_2_rhs\n",
    "\n",
    "c11 = eqn_1.coeff(alpha_1)\n",
    "c12 = eqn_1.coeff(alpha_2)\n",
    "eqn_1_rhs = sympy.expand(-1 * eqn_1.subs({alpha_1: 0, alpha_2: 0}))\n",
    "\n",
    "c21 = eqn_2.coeff(alpha_1)\n",
    "c22 = eqn_2.coeff(alpha_2)\n",
    "eqn_2_rhs = sympy.expand(-1 * eqn_2.subs({alpha_1: 0, alpha_2: 0}))\n",
    "\n",
    "# Determinant of matrix\n",
    "det = c11 * c22 - c12 * c21\n",
    "\n",
    "# Inverse of matrix is 1/det * [[c22, -c12], [-c21, c11]]\n",
    "# Solution is inverse * [eqn_1_rhs, eqn_2_rhs]\n",
    "alpha_1_sol = (c22 * eqn_1_rhs - c12 * eqn_2_rhs) / det\n",
    "alpha_2_sol = (-c21 * eqn_1_rhs + c11 * eqn_2_rhs) / det\n",
    "alpha_1_sol = sympy.factor(alpha_1_sol)\n",
    "alpha_2_sol = sympy.factor(alpha_2_sol)"
   ]
  },
  {
   "cell_type": "code",
   "execution_count": 20,
   "metadata": {},
   "outputs": [
    {
     "name": "stdout",
     "output_type": "stream",
     "text": [
      "3*(-2*g*l_1**2*l_2*rho_1*rho_2*cos(theta_1(t)) - 6*g*l_1**2*m_p*rho_1*cos(theta_1(t)) + 3*g*l_1*l_2**2*rho_2**2*cos(theta_1(t) - theta_2(t))*cos(theta_2(t)) - 4*g*l_1*l_2**2*rho_2**2*cos(theta_1(t)) - 4*g*l_1*l_2*m_j*rho_2*cos(theta_1(t)) + 12*g*l_1*l_2*m_p*rho_2*cos(theta_1(t) - theta_2(t))*cos(theta_2(t)) - 16*g*l_1*l_2*m_p*rho_2*cos(theta_1(t)) - 12*g*l_1*m_j*m_p*cos(theta_1(t)) + 12*g*l_1*m_p**2*cos(theta_1(t) - theta_2(t))*cos(theta_2(t)) - 12*g*l_1*m_p**2*cos(theta_1(t)) + 2*g*l_2*l_b**2*rho_1*rho_2*cos(theta_1(t)) + 4*g*l_2*l_b*m_b*rho_2*cos(theta_1(t)) - 4*g*l_2*m_d*r_a*rho_2 + 6*g*l_b**2*m_p*rho_1*cos(theta_1(t)) + 12*g*l_b*m_b*m_p*cos(theta_1(t)) - 12*g*m_d*m_p*r_a - 3*l_1**2*l_2**2*rho_2**2*sin(theta_1(t) - theta_2(t))*cos(theta_1(t) - theta_2(t))*Derivative(theta_1(t), t)**2 - 12*l_1**2*l_2*m_p*rho_2*sin(theta_1(t) - theta_2(t))*cos(theta_1(t) - theta_2(t))*Derivative(theta_1(t), t)**2 - 12*l_1**2*m_p**2*sin(theta_1(t) - theta_2(t))*cos(theta_1(t) - theta_2(t))*Derivative(theta_1(t), t)**2 - 2*l_1*l_2**3*rho_2**2*sin(theta_1(t) - theta_2(t))*Derivative(theta_2(t), t)**2 - 10*l_1*l_2**2*m_p*rho_2*sin(theta_1(t) - theta_2(t))*Derivative(theta_2(t), t)**2 - 12*l_1*l_2*m_p**2*sin(theta_1(t) - theta_2(t))*Derivative(theta_2(t), t)**2)/(12*I_extra*l_2*rho_2 + 36*I_extra*m_p + 4*l_1**3*l_2*rho_1*rho_2 + 12*l_1**3*m_p*rho_1 - 9*l_1**2*l_2**2*rho_2**2*cos(theta_1(t) - theta_2(t))**2 + 12*l_1**2*l_2**2*rho_2**2 + 12*l_1**2*l_2*m_j*rho_2 - 36*l_1**2*l_2*m_p*rho_2*cos(theta_1(t) - theta_2(t))**2 + 48*l_1**2*l_2*m_p*rho_2 + 36*l_1**2*m_j*m_p - 36*l_1**2*m_p**2*cos(theta_1(t) - theta_2(t))**2 + 36*l_1**2*m_p**2 + 4*l_2*l_b**3*rho_1*rho_2 + 12*l_2*l_b**2*m_b*rho_2 + 12*l_2*m_d*r_a**2*rho_2 + 12*l_b**3*m_p*rho_1 + 36*l_b**2*m_b*m_p + 36*m_d*m_p*r_a**2)\n",
      "-3*(l_2*rho_2 + 2*m_p)*(6*I_extra*g*cos(theta_2(t)) - 6*I_extra*l_1*sin(theta_1(t) - theta_2(t))*Derivative(theta_1(t), t)**2 - 3*g*l_1**3*rho_1*cos(theta_1(t) - theta_2(t))*cos(theta_1(t)) + 2*g*l_1**3*rho_1*cos(theta_2(t)) - 6*g*l_1**2*l_2*rho_2*cos(theta_1(t) - theta_2(t))*cos(theta_1(t)) + 6*g*l_1**2*l_2*rho_2*cos(theta_2(t)) - 6*g*l_1**2*m_j*cos(theta_1(t) - theta_2(t))*cos(theta_1(t)) + 6*g*l_1**2*m_j*cos(theta_2(t)) - 6*g*l_1**2*m_p*cos(theta_1(t) - theta_2(t))*cos(theta_1(t)) + 6*g*l_1**2*m_p*cos(theta_2(t)) + 3*g*l_1*l_b**2*rho_1*cos(theta_1(t) - theta_2(t))*cos(theta_1(t)) + 6*g*l_1*l_b*m_b*cos(theta_1(t) - theta_2(t))*cos(theta_1(t)) - 6*g*l_1*m_d*r_a*cos(theta_1(t) - theta_2(t)) + 2*g*l_b**3*rho_1*cos(theta_2(t)) + 6*g*l_b**2*m_b*cos(theta_2(t)) + 6*g*m_d*r_a**2*cos(theta_2(t)) - 2*l_1**4*rho_1*sin(theta_1(t) - theta_2(t))*Derivative(theta_1(t), t)**2 - 6*l_1**3*l_2*rho_2*sin(theta_1(t) - theta_2(t))*Derivative(theta_1(t), t)**2 - 6*l_1**3*m_j*sin(theta_1(t) - theta_2(t))*Derivative(theta_1(t), t)**2 - 6*l_1**3*m_p*sin(theta_1(t) - theta_2(t))*Derivative(theta_1(t), t)**2 - 3*l_1**2*l_2**2*rho_2*sin(theta_1(t) - theta_2(t))*cos(theta_1(t) - theta_2(t))*Derivative(theta_2(t), t)**2 - 6*l_1**2*l_2*m_p*sin(theta_1(t) - theta_2(t))*cos(theta_1(t) - theta_2(t))*Derivative(theta_2(t), t)**2 - 2*l_1*l_b**3*rho_1*sin(theta_1(t) - theta_2(t))*Derivative(theta_1(t), t)**2 - 6*l_1*l_b**2*m_b*sin(theta_1(t) - theta_2(t))*Derivative(theta_1(t), t)**2 - 6*l_1*m_d*r_a**2*sin(theta_1(t) - theta_2(t))*Derivative(theta_1(t), t)**2)/(l_2*(12*I_extra*l_2*rho_2 + 36*I_extra*m_p + 4*l_1**3*l_2*rho_1*rho_2 + 12*l_1**3*m_p*rho_1 - 9*l_1**2*l_2**2*rho_2**2*cos(theta_1(t) - theta_2(t))**2 + 12*l_1**2*l_2**2*rho_2**2 + 12*l_1**2*l_2*m_j*rho_2 - 36*l_1**2*l_2*m_p*rho_2*cos(theta_1(t) - theta_2(t))**2 + 48*l_1**2*l_2*m_p*rho_2 + 36*l_1**2*m_j*m_p - 36*l_1**2*m_p**2*cos(theta_1(t) - theta_2(t))**2 + 36*l_1**2*m_p**2 + 4*l_2*l_b**3*rho_1*rho_2 + 12*l_2*l_b**2*m_b*rho_2 + 12*l_2*m_d*r_a**2*rho_2 + 12*l_b**3*m_p*rho_1 + 36*l_b**2*m_b*m_p + 36*m_d*m_p*r_a**2))\n",
      "0\n",
      "0\n"
     ]
    }
   ],
   "source": [
    "# Alternative method to solve for alpha1 and alpha_2\n",
    "alpha_1_sol_ = sympy.solve(eqn_1, alpha_1, simplify=False)[0]\n",
    "alpha_2_sol_ = sympy.solve(eqn_2.subs(alpha_1, alpha_1_sol_), alpha_2, simplify=False)[\n",
    "    0\n",
    "]\n",
    "alpha_1_sol_ = sympy.solve(eqn_1.subs(alpha_2, alpha_2_sol_), alpha_1, simplify=False)[\n",
    "    0\n",
    "]\n",
    "alpha_1_sol_ = sympy.factor(alpha_1_sol_)\n",
    "alpha_2_sol_ = sympy.factor(alpha_2_sol_)\n",
    "\n",
    "print(alpha_1_sol_)\n",
    "print(alpha_2_sol_)\n",
    "\n",
    "# Should be zero\n",
    "print(sympy.simplify(alpha_1_sol_ - alpha_1_sol))\n",
    "print(sympy.simplify(alpha_2_sol_ - alpha_2_sol))"
   ]
  },
  {
   "cell_type": "code",
   "execution_count": 21,
   "metadata": {},
   "outputs": [
    {
     "name": "stdout",
     "output_type": "stream",
     "text": [
      "alpha_1 = 3*(-2*g*l_1**2*l_2*rho_1*rho_2*np.cos(theta_1) - 6*g*l_1**2*m_p*rho_1*np.cos(theta_1) + 3*g*l_1*l_2**2*rho_2**2*np.cos(theta_1 - theta_2)*np.cos(theta_2) - 4*g*l_1*l_2**2*rho_2**2*np.cos(theta_1) - 4*g*l_1*l_2*m_j*rho_2*np.cos(theta_1) + 12*g*l_1*l_2*m_p*rho_2*np.cos(theta_1 - theta_2)*np.cos(theta_2) - 16*g*l_1*l_2*m_p*rho_2*np.cos(theta_1) - 12*g*l_1*m_j*m_p*np.cos(theta_1) + 12*g*l_1*m_p**2*np.cos(theta_1 - theta_2)*np.cos(theta_2) - 12*g*l_1*m_p**2*np.cos(theta_1) + 2*g*l_2*l_b**2*rho_1*rho_2*np.cos(theta_1) + 4*g*l_2*l_b*m_b*rho_2*np.cos(theta_1) - 4*g*l_2*m_d*r_a*rho_2 + 6*g*l_b**2*m_p*rho_1*np.cos(theta_1) + 12*g*l_b*m_b*m_p*np.cos(theta_1) - 12*g*m_d*m_p*r_a - 3*l_1**2*l_2**2*rho_2**2*np.sin(theta_1 - theta_2)*np.cos(theta_1 - theta_2)*omega_1**2 - 12*l_1**2*l_2*m_p*rho_2*np.sin(theta_1 - theta_2)*np.cos(theta_1 - theta_2)*omega_1**2 - 12*l_1**2*m_p**2*np.sin(theta_1 - theta_2)*np.cos(theta_1 - theta_2)*omega_1**2 - 2*l_1*l_2**3*rho_2**2*np.sin(theta_1 - theta_2)*omega_2**2 - 10*l_1*l_2**2*m_p*rho_2*np.sin(theta_1 - theta_2)*omega_2**2 - 12*l_1*l_2*m_p**2*np.sin(theta_1 - theta_2)*omega_2**2)/(12*I_extra*l_2*rho_2 + 36*I_extra*m_p + 4*l_1**3*l_2*rho_1*rho_2 + 12*l_1**3*m_p*rho_1 - 9*l_1**2*l_2**2*rho_2**2*np.cos(theta_1 - theta_2)**2 + 12*l_1**2*l_2**2*rho_2**2 + 12*l_1**2*l_2*m_j*rho_2 - 36*l_1**2*l_2*m_p*rho_2*np.cos(theta_1 - theta_2)**2 + 48*l_1**2*l_2*m_p*rho_2 + 36*l_1**2*m_j*m_p - 36*l_1**2*m_p**2*np.cos(theta_1 - theta_2)**2 + 36*l_1**2*m_p**2 + 4*l_2*l_b**3*rho_1*rho_2 + 12*l_2*l_b**2*m_b*rho_2 + 12*l_2*m_d*r_a**2*rho_2 + 12*l_b**3*m_p*rho_1 + 36*l_b**2*m_b*m_p + 36*m_d*m_p*r_a**2)\n",
      "alpha_2 = -3*(l_2*rho_2 + 2*m_p)*(6*I_extra*g*np.cos(theta_2) - 6*I_extra*l_1*np.sin(theta_1 - theta_2)*omega_1**2 - 3*g*l_1**3*rho_1*np.cos(theta_1 - theta_2)*np.cos(theta_1) + 2*g*l_1**3*rho_1*np.cos(theta_2) - 6*g*l_1**2*l_2*rho_2*np.cos(theta_1 - theta_2)*np.cos(theta_1) + 6*g*l_1**2*l_2*rho_2*np.cos(theta_2) - 6*g*l_1**2*m_j*np.cos(theta_1 - theta_2)*np.cos(theta_1) + 6*g*l_1**2*m_j*np.cos(theta_2) - 6*g*l_1**2*m_p*np.cos(theta_1 - theta_2)*np.cos(theta_1) + 6*g*l_1**2*m_p*np.cos(theta_2) + 3*g*l_1*l_b**2*rho_1*np.cos(theta_1 - theta_2)*np.cos(theta_1) + 6*g*l_1*l_b*m_b*np.cos(theta_1 - theta_2)*np.cos(theta_1) - 6*g*l_1*m_d*r_a*np.cos(theta_1 - theta_2) + 2*g*l_b**3*rho_1*np.cos(theta_2) + 6*g*l_b**2*m_b*np.cos(theta_2) + 6*g*m_d*r_a**2*np.cos(theta_2) - 2*l_1**4*rho_1*np.sin(theta_1 - theta_2)*omega_1**2 - 6*l_1**3*l_2*rho_2*np.sin(theta_1 - theta_2)*omega_1**2 - 6*l_1**3*m_j*np.sin(theta_1 - theta_2)*omega_1**2 - 6*l_1**3*m_p*np.sin(theta_1 - theta_2)*omega_1**2 - 3*l_1**2*l_2**2*rho_2*np.sin(theta_1 - theta_2)*np.cos(theta_1 - theta_2)*omega_2**2 - 6*l_1**2*l_2*m_p*np.sin(theta_1 - theta_2)*np.cos(theta_1 - theta_2)*omega_2**2 - 2*l_1*l_b**3*rho_1*np.sin(theta_1 - theta_2)*omega_1**2 - 6*l_1*l_b**2*m_b*np.sin(theta_1 - theta_2)*omega_1**2 - 6*l_1*m_d*r_a**2*np.sin(theta_1 - theta_2)*omega_1**2)/(l_2*(12*I_extra*l_2*rho_2 + 36*I_extra*m_p + 4*l_1**3*l_2*rho_1*rho_2 + 12*l_1**3*m_p*rho_1 - 9*l_1**2*l_2**2*rho_2**2*np.cos(theta_1 - theta_2)**2 + 12*l_1**2*l_2**2*rho_2**2 + 12*l_1**2*l_2*m_j*rho_2 - 36*l_1**2*l_2*m_p*rho_2*np.cos(theta_1 - theta_2)**2 + 48*l_1**2*l_2*m_p*rho_2 + 36*l_1**2*m_j*m_p - 36*l_1**2*m_p**2*np.cos(theta_1 - theta_2)**2 + 36*l_1**2*m_p**2 + 4*l_2*l_b**3*rho_1*rho_2 + 12*l_2*l_b**2*m_b*rho_2 + 12*l_2*m_d*r_a**2*rho_2 + 12*l_b**3*m_p*rho_1 + 36*l_b**2*m_b*m_p + 36*m_d*m_p*r_a**2))\n"
     ]
    }
   ],
   "source": [
    "# A bit of a hack to convert sympy expressions to python code\n",
    "def stringify(expr):\n",
    "    expr = str(expr)\n",
    "    expr = expr.replace(\"theta_1(t)\", \"theta_1\")\n",
    "    expr = expr.replace(\"theta_2(t)\", \"theta_2\")\n",
    "    expr = expr.replace(\"Derivative(theta_1, t)\", \"omega_1\")\n",
    "    expr = expr.replace(\"Derivative(theta_2, t)\", \"omega_2\")\n",
    "    expr = expr.replace(\"sin\", \"np.sin\")\n",
    "    expr = expr.replace(\"cos\", \"np.cos\")\n",
    "    expr = expr.replace(\"sqrt\", \"np.sqrt\")\n",
    "    return expr\n",
    "\n",
    "\n",
    "# Solution for accelerations\n",
    "# Does not include air resistance\n",
    "print(\"alpha_1 =\", stringify(alpha_1_sol))\n",
    "print(\"alpha_2 =\", stringify(alpha_2_sol))"
   ]
  },
  {
   "cell_type": "code",
   "execution_count": 25,
   "metadata": {},
   "outputs": [],
   "source": [
    "# Air resistance modeling\n",
    "# Fd = 1/2 * Cd * rho_air * v^2 * A\n",
    "\n",
    "# Integration variable\n",
    "s = sympy.symbols(\"s\")\n",
    "\n",
    "# Rod 1 (modeled as cylinder)\n",
    "# Cross section area is a rectangle of 2r_1 x ds\n",
    "area_1 = 2 * r_1\n",
    "# Position and velocity along the rod as a function of s\n",
    "x_s, y_s = s * sympy.cos(theta_1), s * sympy.sin(theta_1)\n",
    "v_x_s, v_y_s = sympy.diff(x_s, t), sympy.diff(y_s, t)\n",
    "velocity_1 = sympy.sqrt(v_x_s**2 + v_y_s**2).simplify()\n",
    "# Drag force is constant * area * |velocity| * velocity\n",
    "F_drag_1_x = Cd_cyl / 2 * rho_air * area_1 * velocity_1 * v_x_s\n",
    "F_drag_1_y = Cd_cyl / 2 * rho_air * area_1 * velocity_1 * v_y_s\n",
    "# Generalized force for theta_1\n",
    "# Q_theta = F_x * dx/dtheta + F_y * dy/dtheta = F_x * dv_x/domega + F_y * dv_y/domega\n",
    "Q_1_drag_1_integrand = sympy.simplify(\n",
    "    F_drag_1_x * v_x_s.diff(omega_1) + F_drag_1_y * v_y_s.diff(omega_1)\n",
    ")\n",
    "Q_1_drag_1 = sympy.integrate(Q_1_drag_1_integrand, (s, 0, l_1))\n",
    "# Generalized force for theta_2\n",
    "Q_2_drag_1_integrand = sympy.simplify(\n",
    "    F_drag_1_x * v_x_s.diff(omega_2) + F_drag_1_y * v_y_s.diff(omega_2)\n",
    ")\n",
    "Q_2_drag_1 = sympy.integrate(Q_2_drag_1_integrand, (s, 0, l_1))\n",
    "\n",
    "# Rod for balance mass (cylinder)\n",
    "x_s, y_s = -s * sympy.cos(theta_1), -s * sympy.sin(theta_1)\n",
    "v_x_s, v_y_s = sympy.diff(x_s, t), sympy.diff(y_s, t)\n",
    "F_drag_b_x = Cd_cyl / 2 * rho_air * area_1 * velocity_1 * v_x_s\n",
    "F_drag_b_y = Cd_cyl / 2 * rho_air * area_1 * velocity_1 * v_y_s\n",
    "Q_1_drag_b_integrand = sympy.simplify(\n",
    "    F_drag_b_x * v_x_s.diff(omega_1) + F_drag_b_y * v_y_s.diff(omega_1)\n",
    ")\n",
    "Q_2_drag_b_integrand = sympy.simplify(\n",
    "    F_drag_b_x * v_x_s.diff(omega_2) + F_drag_b_y * v_y_s.diff(omega_2)\n",
    ")\n",
    "Q_1_drag_b = sympy.integrate(Q_1_drag_b_integrand, (s, 0, l_b))\n",
    "Q_2_drag_b = sympy.integrate(Q_2_drag_b_integrand, (s, 0, l_b))\n",
    "\n",
    "# Rod 2 (cylinder)\n",
    "area_2 = 2 * r_2  # Rectangle of 2r_2 x dl\n",
    "x_s = l_1 * sympy.cos(theta_1) + s * sympy.cos(theta_2)\n",
    "y_s = l_1 * sympy.sin(theta_1) + s * sympy.sin(theta_2)\n",
    "v_x_s, v_y_s = sympy.diff(x_s, t), sympy.diff(y_s, t)\n",
    "velocity_2 = sympy.sqrt(v_x_s**2 + v_y_s**2).simplify()\n",
    "F_drag_2_x = Cd_cyl / 2 * rho_air * area_2 * velocity_2 * v_x_s\n",
    "F_drag_2_y = Cd_cyl / 2 * rho_air * area_2 * velocity_2 * v_y_s\n",
    "# Not integratable analytically\n",
    "Q_1_drag_2_integrand = sympy.simplify(\n",
    "    F_drag_2_x * v_x_s.diff(omega_1) + F_drag_2_y * v_y_s.diff(omega_1)\n",
    ")\n",
    "Q_2_drag_2_integrand = sympy.simplify(\n",
    "    F_drag_2_x * v_x_s.diff(omega_2) + F_drag_2_y * v_y_s.diff(omega_2)\n",
    ")\n",
    "\n",
    "# Joint mass m_j (sphere)\n",
    "area_j = sympy.pi * r_j**2\n",
    "velocity_j = sympy.sqrt(v_x_1**2 + v_y_1**2).simplify()\n",
    "F_drag_j_x = Cd_sph / 2 * rho_air * area_j * velocity_j * v_x_1\n",
    "F_drag_j_y = Cd_sph / 2 * rho_air * area_j * velocity_j * v_y_1\n",
    "Q_1_drag_j = sympy.simplify(\n",
    "    F_drag_j_x * v_x_1.diff(omega_1) + F_drag_j_y * v_y_1.diff(omega_1)\n",
    ")\n",
    "Q_2_drag_j = sympy.simplify(\n",
    "    F_drag_j_x * v_x_1.diff(omega_2) + F_drag_j_y * v_y_1.diff(omega_2)\n",
    ")\n",
    "\n",
    "# Balance mass m_b (sphere)\n",
    "area_b = sympy.pi * r_b**2\n",
    "velocity_b = sympy.sqrt(v_x_b**2 + v_y_b**2).simplify()\n",
    "F_drag_b_x = Cd_sph / 2 * rho_air * area_b * velocity_b * v_x_b\n",
    "F_drag_b_y = Cd_sph / 2 * rho_air * area_b * velocity_b * v_y_b\n",
    "Q_1_drag_b = sympy.simplify(\n",
    "    F_drag_b_x * v_x_b.diff(omega_1) + F_drag_b_y * v_y_b.diff(omega_1)\n",
    ")\n",
    "Q_2_drag_b = sympy.simplify(\n",
    "    F_drag_b_x * v_x_b.diff(omega_2) + F_drag_b_y * v_y_b.diff(omega_2)\n",
    ")\n",
    "\n",
    "# Projectile mass m_p (sphere)\n",
    "area_p = sympy.pi * r_p**2\n",
    "velocity_p = sympy.sqrt(v_x_2**2 + v_y_2**2).simplify()\n",
    "F_drag_p_x = Cd_sph / 2 * rho_air * area_p * velocity_p * v_x_2\n",
    "F_drag_p_y = Cd_sph / 2 * rho_air * area_p * velocity_p * v_y_2\n",
    "Q_1_drag_p = sympy.simplify(\n",
    "    F_drag_p_x * v_x_2.diff(omega_1) + F_drag_p_y * v_y_2.diff(omega_1)\n",
    ")\n",
    "Q_2_drag_p = sympy.simplify(\n",
    "    F_drag_p_x * v_x_2.diff(omega_2) + F_drag_p_y * v_y_2.diff(omega_2)\n",
    ")\n",
    "\n",
    "# Driving mass m_d (disk)\n",
    "area_d = sympy.pi * r_d**2\n",
    "velocity_d = sympy.sqrt(v_d**2).simplify()\n",
    "F_drag_d_y = Cd_disk / 2 * rho_air * area_d * velocity_d * v_d\n",
    "Q_1_drag_d = sympy.simplify(F_drag_d_y * v_d.diff(omega_1))\n",
    "Q_2_drag_d = sympy.simplify(F_drag_d_y * v_d.diff(omega_2))\n",
    "\n",
    "# Total generalized forces\n",
    "# Excluding drag force on rod 2\n",
    "Q_1_drag = sympy.simplify(\n",
    "    Q_1_drag_1 + Q_1_drag_b + Q_1_drag_j + Q_1_drag_p + Q_1_drag_d\n",
    ")\n",
    "Q_2_drag = sympy.simplify(\n",
    "    Q_2_drag_1 + Q_2_drag_b + Q_2_drag_j + Q_2_drag_p + Q_2_drag_d\n",
    ")"
   ]
  },
  {
   "cell_type": "code",
   "execution_count": 26,
   "metadata": {},
   "outputs": [
    {
     "name": "stdout",
     "output_type": "stream",
     "text": [
      "c11 = I_extra + l_1**3*rho_1/3 + l_1**2*l_2*rho_2 + l_1**2*m_j + l_1**2*m_p + l_b**3*rho_1/3 + l_b**2*m_b + m_d*r_a**2\n",
      "c12 = l_1*l_2**2*rho_2*np.cos(theta_1 - theta_2)/2 + l_1*l_2*m_p*np.cos(theta_1 - theta_2)\n",
      "c21 = l_1*l_2**2*rho_2*np.cos(theta_1 - theta_2)/2 + l_1*l_2*m_p*np.cos(theta_1 - theta_2)\n",
      "c22 = l_2**3*rho_2/3 + l_2**2*m_p\n",
      "det = (l_2**3*rho_2/3 + l_2**2*m_p)*(I_extra + l_1**3*rho_1/3 + l_1**2*l_2*rho_2 + l_1**2*m_j + l_1**2*m_p + l_b**3*rho_1/3 + l_b**2*m_b + m_d*r_a**2) - (l_1*l_2**2*rho_2*np.cos(theta_1 - theta_2)/2 + l_1*l_2*m_p*np.cos(theta_1 - theta_2))**2\n",
      "eqn_1_rhs = -g*l_1**2*rho_1*np.cos(theta_1)/2 - g*l_1*l_2*rho_2*np.cos(theta_1) - g*l_1*m_j*np.cos(theta_1) - g*l_1*m_p*np.cos(theta_1) + g*l_b**2*rho_1*np.cos(theta_1)/2 + g*l_b*m_b*np.cos(theta_1) - g*m_d*r_a - l_1*l_2**2*rho_2*np.sin(theta_1 - theta_2)*omega_2**2/2 - l_1*l_2*m_p*np.sin(theta_1 - theta_2)*omega_2**2\n",
      "eqn_2_rhs = -g*l_2**2*rho_2*np.cos(theta_2)/2 - g*l_2*m_p*np.cos(theta_2) + l_1*l_2**2*rho_2*np.sin(theta_1 - theta_2)*omega_1**2/2 + l_1*l_2*m_p*np.sin(theta_1 - theta_2)*omega_1**2\n",
      "eqn_1_rhs -= rho_air*(Cd_cyl*l_1**3*r_1*np.sqrt(l_1**2*omega_1**2)*omega_1 + 2*pi*Cd_disk*r_a**2*r_d**2*np.sqrt(r_a**2*omega_1**2)*omega_1 + 2*pi*Cd_sph*l_1**2*r_j**2*np.sqrt(l_1**2*omega_1**2)*omega_1 + 2*pi*Cd_sph*l_1*r_p**2*(l_1*omega_1 + l_2*np.cos(theta_1 - theta_2)*omega_2)*np.sqrt(l_1**2*omega_1**2 + 2*l_1*l_2*np.cos(theta_1 - theta_2)*omega_1*omega_2 + l_2**2*omega_2**2) + 2*pi*Cd_sph*l_b**2*r_b**2*np.sqrt(l_b**2*omega_1**2)*omega_1)/4\n",
      "eqn_2_rhs -= pi*Cd_sph*l_2*r_p**2*rho_air*(l_1*np.cos(theta_1 - theta_2)*omega_1 + l_2*omega_2)*np.sqrt(l_1**2*omega_1**2 + 2*l_1*l_2*np.cos(theta_1 - theta_2)*omega_1*omega_2 + l_2**2*omega_2**2)/2\n",
      "Q_1_drag_2_integrand = lambda s: Cd_cyl*l_1*r_2*rho_air*(l_1*omega_1 + s*np.cos(theta_1 - theta_2)*omega_2)*np.sqrt(l_1**2*omega_1**2 + 2*l_1*s*np.cos(theta_1 - theta_2)*omega_1*omega_2 + s**2*omega_2**2)\n",
      "Q_2_drag_2_integrand = lambda s: Cd_cyl*r_2*rho_air*s*(l_1*np.cos(theta_1 - theta_2)*omega_1 + s*omega_2)*np.sqrt(l_1**2*omega_1**2 + 2*l_1*s*np.cos(theta_1 - theta_2)*omega_1*omega_2 + s**2*omega_2**2)\n",
      "Q_1_drag_2 = scipy.integrate.quad(Q_1_drag_2_integrand, 0, l_2)[0]\n",
      "Q_2_drag_2 = scipy.integrate.quad(Q_2_drag_2_integrand, 0, l_2)[0]\n",
      "eqn_1_rhs -= Q_1_drag_2\n",
      "eqn_2_rhs -= Q_2_drag_2\n",
      "alpha_1 = (c22 * eqn_1_rhs - c12 * eqn_2_rhs) / det\n",
      "alpha_2 = (-c21 * eqn_1_rhs + c11 * eqn_2_rhs) / det\n"
     ]
    }
   ],
   "source": [
    "# Generate code\n",
    "print(\"c11 =\", stringify(c11))\n",
    "print(\"c12 =\", stringify(c12))\n",
    "print(\"c21 =\", stringify(c21))\n",
    "print(\"c22 =\", stringify(c22))\n",
    "print(\"det =\", stringify(det))\n",
    "print(\"eqn_1_rhs =\", stringify(eqn_1_rhs))\n",
    "print(\"eqn_2_rhs =\", stringify(eqn_2_rhs))\n",
    "print(\"eqn_1_rhs -=\", stringify(Q_1_drag))\n",
    "print(\"eqn_2_rhs -=\", stringify(Q_2_drag))\n",
    "\n",
    "# Numerical integration for drag force on rod 2\n",
    "print(\"Q_1_drag_2_integrand = lambda s:\", stringify(Q_1_drag_2_integrand))\n",
    "print(\"Q_2_drag_2_integrand = lambda s:\", stringify(Q_2_drag_2_integrand))\n",
    "print(\"Q_1_drag_2 = scipy.integrate.quad(Q_1_drag_2_integrand, 0, l_2)[0]\")\n",
    "print(\"Q_2_drag_2 = scipy.integrate.quad(Q_2_drag_2_integrand, 0, l_2)[0]\")\n",
    "print(\"eqn_1_rhs -= Q_1_drag_2\")\n",
    "print(\"eqn_2_rhs -= Q_2_drag_2\")\n",
    "\n",
    "# Solve for alpha_1 and alpha_2\n",
    "print(\"alpha_1 = (c22 * eqn_1_rhs - c12 * eqn_2_rhs) / det\")\n",
    "print(\"alpha_2 = (-c21 * eqn_1_rhs + c11 * eqn_2_rhs) / det\")"
   ]
  },
  {
   "cell_type": "markdown",
   "metadata": {},
   "source": [
    "## Spinup stage"
   ]
  },
  {
   "cell_type": "code",
   "execution_count": 51,
   "metadata": {},
   "outputs": [
    {
     "name": "stdout",
     "output_type": "stream",
     "text": [
      "Lagrange equation: I_extra*Derivative(theta_1(t), (t, 2)) + g*l_1**2*rho_1*cos(theta_1(t))/2 + g*l_1*l_2*rho_2*cos(theta_1(t)) + g*l_1*m_j*cos(theta_1(t)) + g*l_1*m_p*cos(theta_1(t)) + g*l_2**2*rho_2*cos(theta_2_0 + theta_1(t))/2 + g*l_2*m_p*cos(theta_2_0 + theta_1(t)) - g*l_b**2*rho_1*cos(theta_1(t))/2 - g*l_b*m_b*cos(theta_1(t)) + g*m_d*r_a + l_1**3*rho_1*Derivative(theta_1(t), (t, 2))/3 + l_1**2*l_2*rho_2*Derivative(theta_1(t), (t, 2)) + l_1**2*m_j*Derivative(theta_1(t), (t, 2)) + l_1**2*m_p*Derivative(theta_1(t), (t, 2)) + l_1*l_2**2*rho_2*cos(theta_2_0)*Derivative(theta_1(t), (t, 2)) + 2*l_1*l_2*m_p*cos(theta_2_0)*Derivative(theta_1(t), (t, 2)) + l_2**3*rho_2*Derivative(theta_1(t), (t, 2))/3 + l_2**2*m_p*Derivative(theta_1(t), (t, 2)) + l_b**3*rho_1*Derivative(theta_1(t), (t, 2))/3 + l_b**2*m_b*Derivative(theta_1(t), (t, 2)) + m_d*r_a**2*Derivative(theta_1(t), (t, 2))\n"
     ]
    }
   ],
   "source": [
    "# Initial theta_2\n",
    "theta_2_0 = sympy.symbols(\"theta_2_0\")\n",
    "\n",
    "# Substitue theta_2 with (theta_1 + theta_2_0)\n",
    "Linit = L.subs(theta_2, theta_1 + theta_2_0).simplify()\n",
    "\n",
    "# Euler-Lagrange equations for only theta_1\n",
    "dLinit_dtheta_1 = sympy.diff(Linit, theta_1)\n",
    "dLinit_domega_1 = sympy.diff(Linit, omega_1)\n",
    "eqn = sympy.expand(sympy.diff(dLinit_domega_1, t) - dLinit_dtheta_1)\n",
    "\n",
    "print(f\"Lagrange equation: {eqn}\")"
   ]
  },
  {
   "cell_type": "code",
   "execution_count": 52,
   "metadata": {},
   "outputs": [],
   "source": [
    "# Without drag force\n",
    "coeff_1 = eqn.coeff(alpha_1)\n",
    "eqn_rhs = sympy.expand(-1 * eqn.subs(alpha_1, 0))\n",
    "alpha_1_solution = sympy.factor(eqn_rhs / coeff_1)"
   ]
  },
  {
   "cell_type": "code",
   "execution_count": 59,
   "metadata": {},
   "outputs": [
    {
     "name": "stdout",
     "output_type": "stream",
     "text": [
      "alpha_1 = -3*g*(l_1**2*rho_1*np.cos(theta_1) + 2*l_1*l_2*rho_2*np.cos(theta_1) + 2*l_1*m_j*np.cos(theta_1) + 2*l_1*m_p*np.cos(theta_1) + l_2**2*rho_2*np.cos(theta_2_0 + theta_1) + 2*l_2*m_p*np.cos(theta_2_0 + theta_1) - l_b**2*rho_1*np.cos(theta_1) - 2*l_b*m_b*np.cos(theta_1) + 2*m_d*r_a)/(2*(3*I_extra + l_1**3*rho_1 + 3*l_1**2*l_2*rho_2 + 3*l_1**2*m_j + 3*l_1**2*m_p + 3*l_1*l_2**2*rho_2*np.cos(theta_2_0) + 6*l_1*l_2*m_p*np.cos(theta_2_0) + l_2**3*rho_2 + 3*l_2**2*m_p + l_b**3*rho_1 + 3*l_b**2*m_b + 3*m_d*r_a**2))\n"
     ]
    }
   ],
   "source": [
    "# With drag force\n",
    "Q_1_drag_init = Q_1_drag.subs(theta_2, theta_1 + theta_2_0).simplify()\n",
    "Q_2_drag_init = Q_2_drag.subs(theta_2, theta_1 + theta_2_0).simplify()\n",
    "Q_drag_init = sympy.factor(Q_1_drag_init + Q_2_drag_init)\n",
    "alpha_1_solution_drag = sympy.factor((eqn_rhs - Q_drag_init) / coeff_1)\n",
    "\n",
    "print(\"alpha_1 =\", stringify(alpha_1_solution))"
   ]
  },
  {
   "cell_type": "code",
   "execution_count": 60,
   "metadata": {},
   "outputs": [
    {
     "name": "stdout",
     "output_type": "stream",
     "text": [
      "0\n"
     ]
    }
   ],
   "source": [
    "# Alternative method to solve for alpha_1\n",
    "alpha_1_solution_drag_ = sympy.solve(eqn + Q_drag_init, alpha_1, simplify=False)[0]\n",
    "alpha_1_solution_drag_ = sympy.factor(alpha_1_solution_drag_)\n",
    "# Should be zero\n",
    "print(sympy.simplify(alpha_1_solution_drag_ - alpha_1_solution_drag))"
   ]
  }
 ],
 "metadata": {
  "kernelspec": {
   "display_name": "Python 3",
   "language": "python",
   "name": "python3"
  },
  "language_info": {
   "codemirror_mode": {
    "name": "ipython",
    "version": 3
   },
   "file_extension": ".py",
   "mimetype": "text/x-python",
   "name": "python",
   "nbconvert_exporter": "python",
   "pygments_lexer": "ipython3",
   "version": "3.13.2"
  }
 },
 "nbformat": 4,
 "nbformat_minor": 2
}
