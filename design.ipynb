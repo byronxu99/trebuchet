{
 "cells": [
  {
   "cell_type": "code",
   "execution_count": 20,
   "id": "b045ec91",
   "metadata": {},
   "outputs": [],
   "source": [
    "import math\n",
    "import numpy as np\n",
    "import matplotlib.pyplot as plt\n",
    "from config import Config, load_config, save_config"
   ]
  },
  {
   "cell_type": "code",
   "execution_count": null,
   "id": "f29f855a",
   "metadata": {},
   "outputs": [
    {
     "name": "stdout",
     "output_type": "stream",
     "text": [
      "Rod 1 length: 0.600 m\n",
      "Rod 2 length: 0.608 m\n",
      "Rod b length: 0.314 m\n",
      "Balance mass: 0.143 kg\n"
     ]
    }
   ],
   "source": [
    "# Arm 1 length\n",
    "l_1 = 0.6\n",
    "l_1_total = 36 * 25.4e-3  # 36 inches\n",
    "\n",
    "# Offset distance from origin to end of arm 2\n",
    "offset = 0.1\n",
    "offset_angle = math.atan2(offset, l_1)\n",
    "\n",
    "# Calculate other arm lengths\n",
    "l_2 = math.sqrt(l_1**2 + offset**2)\n",
    "l_b = l_1_total - l_1\n",
    "\n",
    "# Calculate arm 1 density from radius and thickness\n",
    "r_1 = 25e-3 / 2\n",
    "thickness = 1.5e-3\n",
    "# Aluminum 2.7 g/cm^3\n",
    "rho_material = 2.7 * 1e-3 * (100**3)  # g/cm^3 to kg/m^3\n",
    "# Cross section area\n",
    "cross_section_area = np.pi * (r_1**2 - (r_1 - thickness) ** 2)  # m^2\n",
    "# Linear density\n",
    "rho_1 = cross_section_area * rho_material  # kg/m\n",
    "\n",
    "# Arm 2 density and radius\n",
    "rho_2 = 0.1e-3\n",
    "r_2 = 1e-3\n",
    "\n",
    "# Joint mass and radius\n",
    "m_j = 10e-3\n",
    "r_j = 20e-3 / 2\n",
    "\n",
    "# Projectile mass and radius\n",
    "m_p = 12e-3\n",
    "r_p = 28e-3 / 2\n",
    "\n",
    "# Balance mass and radius\n",
    "m_b = (rho_1 * l_1**2 / 2 - rho_1 * l_b**2 / 2 + m_j * l_1) / l_b\n",
    "r_b = 100e-3 / 2\n",
    "assert m_b >= 0, \"Balance mass cannot be negative\"\n",
    "\n",
    "print(f\"Rod 1 length: {l_1:.3f} m\")\n",
    "print(f\"Rod 2 length: {l_2:.3f} m\")\n",
    "print(f\"Rod b length: {l_b:.3f} m\")\n",
    "print(f\"Balance mass: {m_b:.3f} kg\")\n",
    "\n",
    "# Mass of the driving weight\n",
    "m_d = 40\n",
    "\n",
    "# Radius of driving axle\n",
    "pipe_sizes_inch = {\n",
    "    \"3/8\": 0.675,\n",
    "    \"1/2\": 0.84,\n",
    "    \"3/4\": 1.05,\n",
    "    \"1\": 1.315,\n",
    "    \"1-1/4\": 1.66,\n",
    "    \"1-1/2\": 1.9,\n",
    "}\n",
    "pipe_thickness_inch = {\n",
    "    \"3/8\": 0.091,\n",
    "    \"1/2\": 0.109,\n",
    "    \"3/4\": 0.113,\n",
    "    \"1\": 0.133,\n",
    "    \"1-1/4\": 0.140,\n",
    "    \"1-1/2\": 0.145,\n",
    "}\n",
    "pipe_size = \"1\"\n",
    "r_a = pipe_sizes_inch[pipe_size] * 25.4e-3 / 2\n",
    "\n",
    "# Extra inertia from driving axle\n",
    "axle_len = 24 * 25.4e-3  # 24 inches\n",
    "axle_thickness = pipe_thickness_inch[pipe_size] * 25.4e-3\n",
    "# Steel 7.85 g/cm^3\n",
    "axle_density = 7.85 * 1e-3 * (100**3)  # g/cm^3 to kg/m^3\n",
    "axle_cross_section_area = np.pi * (r_a**2 - (r_a - axle_thickness) ** 2)  # m^2\n",
    "axle_mass = axle_cross_section_area * axle_density * axle_len  # kg\n",
    "axle_inertia = axle_mass * (r_a**2 + (r_a - axle_thickness) ** 2) / 2  # kg*m^2"
   ]
  },
  {
   "cell_type": "code",
   "execution_count": 23,
   "id": "a5561504",
   "metadata": {},
   "outputs": [
    {
     "data": {
      "image/png": "[encoded data removed]",
      "text/plain": [
       "<Figure size 800x800 with 1 Axes>"
      ]
     },
     "metadata": {},
     "output_type": "display_data"
    }
   ],
   "source": [
    "# Plot the design\n",
    "theta_1_init = 0\n",
    "theta_2_init = theta_1_init + np.pi - offset_angle\n",
    "\n",
    "# End of arm 1\n",
    "x_1 = l_1 * np.cos(theta_1_init)\n",
    "y_1 = l_1 * np.sin(theta_1_init)\n",
    "# End of arm 2\n",
    "x_2 = x_1 + l_2 * np.cos(theta_2_init)\n",
    "y_2 = y_1 + l_2 * np.sin(theta_2_init)\n",
    "# End of arm b\n",
    "x_b = -l_b * np.cos(theta_1_init)\n",
    "y_b = -l_b * np.sin(theta_1_init)\n",
    "\n",
    "plt.figure(figsize=(8, 8))\n",
    "plt.plot([0, x_1], [0, y_1], \"r-\", label=\"Arm 1\")\n",
    "plt.plot([x_1, x_2], [y_1, y_2], \"g-\", label=\"Arm 2\")\n",
    "plt.plot([0, x_b], [0, y_b], \"b-\", label=\"Arm b\")\n",
    "plt.plot(x_1, y_1, \"ro\", label=\"Joint mass\")\n",
    "plt.plot(x_2, y_2, \"go\", label=\"Projectile mass\")\n",
    "plt.plot(x_b, y_b, \"bo\", label=\"Balance mass\")\n",
    "plt.plot(0, 0, \"ko\", label=\"Origin\")\n",
    "\n",
    "max_size = l_1 + 0.5 * l_2\n",
    "plt.xlim(-max_size, max_size)\n",
    "plt.ylim(-max_size, max_size)\n",
    "plt.gca().set_aspect(\"equal\", adjustable=\"box\")\n",
    "plt.grid()\n",
    "plt.legend()\n",
    "plt.show()"
   ]
  },
  {
   "cell_type": "code",
   "execution_count": 22,
   "id": "bb9948cb",
   "metadata": {},
   "outputs": [],
   "source": [
    "# Save to file\n",
    "config = Config(\n",
    "    l_1=l_1,\n",
    "    l_2=l_2,\n",
    "    l_b=l_b,\n",
    "    m_j=m_j,\n",
    "    m_p=m_p,\n",
    "    m_b=m_b,\n",
    "    rho_1=rho_1,\n",
    "    rho_2=rho_2,\n",
    "    I_extra=axle_inertia,\n",
    "    m_d=m_d,\n",
    "    r_a=r_a,\n",
    "    r_1=r_1,\n",
    "    r_2=r_2,\n",
    "    r_j=r_j,\n",
    "    r_p=r_p,\n",
    "    r_b=r_b,\n",
    ")\n",
    "\n",
    "save_config(config, \"design_1.yaml\", overwrite=True)"
   ]
  }
 ],
 "metadata": {
  "kernelspec": {
   "display_name": "Python 3",
   "language": "python",
   "name": "python3"
  },
  "language_info": {
   "codemirror_mode": {
    "name": "ipython",
    "version": 3
   },
   "file_extension": ".py",
   "mimetype": "text/x-python",
   "name": "python",
   "nbconvert_exporter": "python",
   "pygments_lexer": "ipython3",
   "version": "3.13.2"
  }
 },
 "nbformat": 4,
 "nbformat_minor": 5
}
